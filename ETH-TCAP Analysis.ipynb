{
 "cells": [
  {
   "cell_type": "code",
   "execution_count": 4,
   "id": "2de6f1f0",
   "metadata": {},
   "outputs": [],
   "source": [
    "import datetime"
   ]
  },
  {
   "cell_type": "code",
   "execution_count": 6,
   "id": "a98bd158",
   "metadata": {},
   "outputs": [],
   "source": [
    "eth_tcap = [(datetime.date(2021, 4, 8), 1989.1480619041722, 191.94010838278558),\n",
    " (datetime.date(2021, 4, 9), 2081.3540625398964, 191.94010838278558),\n",
    " (datetime.date(2021, 4, 10), 2069.6677960855295, 210.21598406910167),\n",
    " (datetime.date(2021, 4, 11), 2142.7960653929085, 199.82253272844244),\n",
    " (datetime.date(2021, 4, 12), 2150.2651427927744, 204.52857115775646),\n",
    " (datetime.date(2021, 4, 13), 2142.476275865736, 210.11469072998085),\n",
    " (datetime.date(2021, 4, 14), 2304.3435163110134, 213.43991886204034),\n",
    " (datetime.date(2021, 4, 15), 2429.6615277515734, 224.82351704616948),\n",
    " (datetime.date(2021, 4, 16), 2514.1684155812304, 219.0906140687161),\n",
    " (datetime.date(2021, 4, 17), 2424.5538447081194, 215.28125914099195),\n",
    " (datetime.date(2021, 4, 18), 2345.266962776132, 208.343869372547),\n",
    " (datetime.date(2021, 4, 19), 2245.7607533508544, 200.94358403466418),\n",
    " (datetime.date(2021, 4, 20), 2168.032726735651, 195.8857452830967),\n",
    " (datetime.date(2021, 4, 21), 2324.2846872281943, 199.37880658594966),\n",
    " (datetime.date(2021, 4, 22), 2373.501344298211, 210.45036570145382),\n",
    " (datetime.date(2021, 4, 23), 2426.0711497906045, 221.84534529489164),\n",
    " (datetime.date(2021, 4, 24), 2364.2312036020908, 201.76154710774136),\n",
    " (datetime.date(2021, 4, 25), 2212.8437976342047, 197.41507054596119),\n",
    " (datetime.date(2021, 4, 26), 2307.35532084471, 210.15863727236746),\n",
    " (datetime.date(2021, 4, 27), 2532.3868028851084, 221.5196085192963),\n",
    " (datetime.date(2021, 4, 28), 2647.158189660288, 233.37546708656876),\n",
    " (datetime.date(2021, 4, 29), 2748.7845851218613, 242.61374450295307),\n",
    " (datetime.date(2021, 4, 30), 2757.497552304977, 249.418650665543),\n",
    " (datetime.date(2021, 5, 1), 2776.70371169874, 254.87080359874693),\n",
    " (datetime.date(2021, 5, 2), 2944.9169473185057, 269.52167657408955),\n",
    " (datetime.date(2021, 5, 3), 2953.2973480804735, 271.1030916849695),\n",
    " (datetime.date(2021, 5, 4), 3439.8550695192603, 326.98787582974506),\n",
    " (datetime.date(2021, 5, 5), 3245.663148933579, 290.254453931067),\n",
    " (datetime.date(2021, 5, 6), 3524.562728476055, 249.34980202620795),\n",
    " (datetime.date(2021, 5, 7), 3495.0758690360576, 252.5452780739742),\n",
    " (datetime.date(2021, 5, 8), 3493.534500000208, 269.61722015561315),\n",
    " (datetime.date(2021, 5, 9), 3912.7429165968124, 294.65956443483884),\n",
    " (datetime.date(2021, 5, 10), 3932.754068170969, 286.4531710089517),\n",
    " (datetime.date(2021, 5, 11), 3979.6086519212827, 287.6970782251714),\n",
    " (datetime.date(2021, 5, 12), 4182.790285752286, 297.45583911543054),\n",
    " (datetime.date(2021, 5, 13), 3906.108903329409, 290.41591972418405),\n",
    " (datetime.date(2021, 5, 14), 3750.3415950592753, 258.2698255315263),\n",
    " (datetime.date(2021, 5, 15), 4088.73170832043, 276.28688847055673),\n",
    " (datetime.date(2021, 5, 16), 3659.9218442136184, 266.177486558733),\n",
    " (datetime.date(2021, 5, 17), 3602.0048969299023, 255.36475484962477),\n",
    " (datetime.date(2021, 5, 18), 3288.2298872378637, 274.7578704083388),\n",
    " (datetime.date(2021, 5, 19), 3399.0492796569383, 299.14873063618484),\n",
    " (datetime.date(2021, 5, 20), 2505.014945945662, 262.604869019573),\n",
    " (datetime.date(2021, 5, 21), 2778.279660560299, 270.62304709203863),\n",
    " (datetime.date(2021, 5, 22), 2419.1032171150196, 222.5817718777695),\n",
    " (datetime.date(2021, 5, 23), 2306.371266867117, 202.6050023597914),\n",
    " (datetime.date(2021, 5, 24), 2120.0373745099428, 204.41710920063412),\n",
    " (datetime.date(2021, 5, 25), 2640.1596323488234, 236.59510104676966),\n",
    " (datetime.date(2021, 5, 26), 2695.4778071496326, 232.67911503927618),\n",
    " (datetime.date(2021, 5, 27), 2882.483407624011, 236.57626849537706),\n",
    " (datetime.date(2021, 5, 28), 2742.990862697615, 235.7517330054866),\n",
    " (datetime.date(2021, 5, 29), 2433.328865728611, 213.03558590927088),\n",
    " (datetime.date(2021, 5, 30), 2294.626285512794, 203.4322115034203),\n",
    " (datetime.date(2021, 5, 31), 2395.8532280027384, 213.63589667065193),\n",
    " (datetime.date(2021, 6, 1), 2708.429865793973, 230.16167714363885),\n",
    " (datetime.date(2021, 6, 2), 2632.6565998696506, 224.4532477302312),\n",
    " (datetime.date(2021, 6, 3), 2717.1540367097723, 235.1133550956788),\n",
    " (datetime.date(2021, 6, 4), 2858.27670209791, 239.47681125036382),\n",
    " (datetime.date(2021, 6, 5), 2694.4976666790503, 229.4214433209822),\n",
    " (datetime.date(2021, 6, 6), 2624.7689150594238, 223.96191857750435),\n",
    " (datetime.date(2021, 6, 7), 2711.5479390111605, 177.0422518954189),\n",
    " (datetime.date(2021, 6, 8), 2580.5355800598445, 194.9834276528571),\n",
    " (datetime.date(2021, 6, 9), 2528.022300878691, 189.0687333634059),\n",
    " (datetime.date(2021, 6, 10), 2620.6253893038547, 195.71279298689035),\n",
    " (datetime.date(2021, 6, 11), 2486.600068788676, 190.59210385007688),\n",
    " (datetime.date(2021, 6, 12), 2356.6347741896757, 182.7530101581654),\n",
    " (datetime.date(2021, 6, 13), 2379.991747950219, 185.59896267885776),\n",
    " (datetime.date(2021, 6, 14), 2517.771695525423, 196.07321542976783),\n",
    " (datetime.date(2021, 6, 15), 2587.381610979154, 199.40156527125512),\n",
    " (datetime.date(2021, 6, 16), 2561.1883309320033, 199.8552336383101),\n",
    " (datetime.date(2021, 6, 17), 2365.872786190649, 216.23893937202155),\n",
    " (datetime.date(2021, 6, 18), 2380.744519633922, 209.53898324265685),\n",
    " (datetime.date(2021, 6, 19), 2231.554315497782, 187.95570834423913),\n",
    " (datetime.date(2021, 6, 20), 2176.308536317709, 193.725241898964),\n",
    " (datetime.date(2021, 6, 21), 2251.5605593660407, 186.95306717592206),\n",
    " (datetime.date(2021, 6, 22), 1900.1222998935382, 169.9140854453323),\n",
    " (datetime.date(2021, 6, 23), 1875.3576944712033, 169.84995518339016),\n",
    " (datetime.date(2021, 6, 24), 1971.1059779809414, 175.98482765831216),\n",
    " (datetime.date(2021, 6, 25), 1990.0761511910587, 177.94679073141228),\n",
    " (datetime.date(2021, 6, 26), 1833.4631609981645, 168.26342024572253),\n",
    " (datetime.date(2021, 6, 27), 1817.047665540675, 164.2403459373542),\n",
    " (datetime.date(2021, 6, 28), 1973.9268648383472, 164.35075480575676),\n",
    " (datetime.date(2021, 6, 29), 2087.5187237874175, 190.257304948108),\n",
    " (datetime.date(2021, 6, 30), 2169.400067865984, 198.43969130151493),\n",
    " (datetime.date(2021, 7, 1), 2279.354161419647, 199.18067692347788),\n",
    " (datetime.date(2021, 7, 2), 2121.657900633364, 187.290158617942),\n",
    " (datetime.date(2021, 7, 3), 2157.880584866453, 185.02870291260598),\n",
    " (datetime.date(2021, 7, 4), 2228.532398568573, 193.58403555787015),\n",
    " (datetime.date(2021, 7, 5), 2329.004750998825, 206.92719530777975),\n",
    " (datetime.date(2021, 7, 6), 2217.3018530598792, 197.37077485383728),\n",
    " (datetime.date(2021, 7, 7), 2320.6549288317, 193.77462403098838),\n",
    " (datetime.date(2021, 7, 8), 2317.23694270242, 188.4122795372271),\n",
    " (datetime.date(2021, 7, 9), 2126.4424673902267, 169.17603110318998),\n",
    " (datetime.date(2021, 7, 10), 2156.5809569525845, 177.53596108229863),\n",
    " (datetime.date(2021, 7, 11), 2123.0585974934124, 163.8237221004594),\n",
    " (datetime.date(2021, 7, 12), 2144.0142572722566, 166.52005021508674),\n",
    " (datetime.date(2021, 7, 13), 2042.4991866143628, 157.9487370653311),\n",
    " (datetime.date(2021, 7, 14), 1944.3950166372085, 156.14662343764266),\n",
    " (datetime.date(2021, 7, 15), 1997.6633136705987, 159.6061431941044),\n",
    " (datetime.date(2021, 7, 16), 1910.7269516309964, 154.47546534315777),\n",
    " (datetime.date(2021, 7, 17), 1874.2002496808186, 151.62360343504596),\n",
    " (datetime.date(2021, 7, 18), 1899.8427500663568, 153.751515860321),\n",
    " (datetime.date(2021, 7, 19), 1905.723382843169, 153.01746492965154),\n",
    " (datetime.date(2021, 7, 20), 1824.929392091902, 150.98616126138148),\n",
    " (datetime.date(2021, 7, 21), 1794.973425186835, 145.40652260069785),\n",
    " (datetime.date(2021, 7, 22), 2003.7239214521073, 164.74632612702604),\n",
    " (datetime.date(2021, 7, 23), 2027.5334479167045, 168.54542053950806),\n",
    " (datetime.date(2021, 7, 24), 2117.154607794504, 168.00653424764442),\n",
    " (datetime.date(2021, 7, 25), 2183.627414557696, 177.7779098426578),\n",
    " (datetime.date(2021, 7, 26), 2209.4993601030114, 173.45307668031234),\n",
    " (datetime.date(2021, 7, 27), 2230.212067673471, 180.62995851645448),\n",
    " (datetime.date(2021, 7, 28), 2292.579636803809, 176.14465765028498),\n",
    " (datetime.date(2021, 7, 29), 2299.689405936291, 179.53088739226897),\n",
    " (datetime.date(2021, 7, 30), 2383.443259961735, 180.32929509207827),\n",
    " (datetime.date(2021, 7, 31), 2462.3999826480103, 182.64268204171358),\n",
    " (datetime.date(2021, 8, 1), 2541.674599365905, 189.8652235641014),\n",
    " (datetime.date(2021, 8, 2), 2555.408178513038, 206.38146294832816),\n",
    " (datetime.date(2021, 8, 3), 2611.6730699481845, 201.63684117526654),\n",
    " (datetime.date(2021, 8, 4), 2521.268474889094, 194.7302164087767),\n",
    " (datetime.date(2021, 8, 5), 2724.5322427136302, 210.33429558962524),\n",
    " (datetime.date(2021, 8, 6), 2821.649692746136, 219.41203203647905),\n",
    " (datetime.date(2021, 8, 7), 2888.7322742752317, 219.41203203647905),\n",
    " (datetime.date(2021, 8, 8), 3151.2175169176753, 241.86319752261625),\n",
    " (datetime.date(2021, 8, 9), 3012.3085592702105, 231.66884552191027),\n",
    " (datetime.date(2021, 8, 10), 3163.0646551948857, 244.90234048062376),\n",
    " (datetime.date(2021, 8, 11), 3147.842995401753, 240.81070234200158),\n",
    " (datetime.date(2021, 8, 12), 3166.6472179679286, 250.0939283921086),\n",
    " (datetime.date(2021, 8, 13), 3048.4126816864195, 235.4071844231922),\n",
    " (datetime.date(2021, 8, 14), 3323.19799054098, 248.00392905911798),\n",
    " (datetime.date(2021, 8, 15), 3268.5481770314927, 248.64870275169878),\n",
    " (datetime.date(2021, 8, 16), 3309.7549104132368, 242.8545623886755),\n",
    " (datetime.date(2021, 8, 17), 3153.583683763619, 248.34247160675156),\n",
    " (datetime.date(2021, 8, 18), 3007.1440271712713, 229.8258494678459),\n",
    " (datetime.date(2021, 8, 19), 3037.230251196439, 229.8258494678459),\n",
    " (datetime.date(2021, 8, 20), 3144.8184367851927, 224.0749729347325),\n",
    " (datetime.date(2021, 8, 21), 3276.9698366433354, 249.3318598532425),\n",
    " (datetime.date(2021, 8, 22), 3224.0004601521537, 247.42633680856585),\n",
    " (datetime.date(2021, 8, 23), 3243.4863583537394, 253.41494441422495),\n",
    " (datetime.date(2021, 8, 24), 3320.4091697810586, 253.41494441422495),\n",
    " (datetime.date(2021, 8, 25), 3177.6637963046905, 243.6526579825129),\n",
    " (datetime.date(2021, 8, 26), 3231.4414517287996, 237.19069937612184),\n",
    " (datetime.date(2021, 8, 27), 3122.971797237849, 237.19069937612184),\n",
    " (datetime.date(2021, 8, 28), 3267.539434750998, 246.62100077894902),\n",
    " (datetime.date(2021, 8, 29), 3245.430222387629, 246.62100077894902),\n",
    " (datetime.date(2021, 8, 30), 3233.383151693551, 244.28217630318542),\n",
    " (datetime.date(2021, 8, 31), 3232.7338632854617, 248.31497529557947),\n",
    " (datetime.date(2021, 9, 1), 3440.5623358869034, 248.31497529557947),\n",
    " (datetime.date(2021, 9, 2), 3790.6139962215557, 279.6822629561684),\n",
    " (datetime.date(2021, 9, 3), 3793.3007433464186, 297.6548349486499),\n",
    " (datetime.date(2021, 9, 4), 3936.1633916244464, 312.76752243280646),\n",
    " (datetime.date(2021, 9, 5), 3894.937511605067, 312.76752243280646),\n",
    " (datetime.date(2021, 9, 6), 3950.270344526561, 321.9774030313702),\n",
    " (datetime.date(2021, 9, 7), 3943.256785301908, 321.1162422333591),\n",
    " (datetime.date(2021, 9, 8), 3440.3417568365676, 280.76699118729914),\n",
    " (datetime.date(2021, 9, 9), 3496.859022996073, 291.3273249764797),\n",
    " (datetime.date(2021, 9, 10), 3435.97993265133, 285.1762851958264),\n",
    " (datetime.date(2021, 9, 11), 3209.915696090501, 264.32972379769006),\n",
    " (datetime.date(2021, 9, 12), 3268.1041621348804, 273.30421786891293),\n",
    " (datetime.date(2021, 9, 13), 3417.839366766938, 282.1670428753067),\n",
    " (datetime.date(2021, 9, 14), 3301.186776828727, 272.1729913782435),\n",
    " (datetime.date(2021, 9, 15), 3425.2508733748823, 280.6873955121266),\n",
    " (datetime.date(2021, 9, 16), 3595.9625714292315, 302.69068456270867),\n",
    " (datetime.date(2021, 9, 17), 3573.3075160249905, 287.6013294793015),\n",
    " (datetime.date(2021, 9, 18), 3412.177182421673, 269.3163797364115),\n",
    " (datetime.date(2021, 9, 19), 3427.58426153173, 273.6559576720421),\n",
    " (datetime.date(2021, 9, 20), 3335.884886514119, 264.46339710695605),\n",
    " (datetime.date(2021, 9, 21), 2977.3226793404747, 241.59758581652164),\n",
    " (datetime.date(2021, 9, 22), 2744.1109995297, 224.05339759617823),\n",
    " (datetime.date(2021, 9, 23), 3074.119761245824, 255.95976055294688),\n",
    " (datetime.date(2021, 9, 24), 3159.269865581771, 263.24937780789105),\n",
    " (datetime.date(2021, 9, 25), 2930.7427060738946, 249.41349176959594),\n",
    " (datetime.date(2021, 9, 26), 2946.9708461401983, 246.43636743559375),\n",
    " (datetime.date(2021, 9, 27), 3063.31634471348, 261.8650368293195),\n",
    " (datetime.date(2021, 9, 28), 2939.742282853775, 254.81572836578513),\n",
    " (datetime.date(2021, 9, 29), 2798.9844172601042, 243.99252257257587),\n",
    " (datetime.date(2021, 9, 30), 2855.6117305265157, 243.99252257257587),\n",
    " (datetime.date(2021, 10, 1), 3013.4932320320772, 273.1823676536773),\n",
    " (datetime.date(2021, 10, 2), 3305.107041443724, 273.1823676536773),\n",
    " (datetime.date(2021, 10, 3), 3393.9242492696653, 283.1619816378239),\n",
    " (datetime.date(2021, 10, 4), 3426.387080851377, 289.5776472654781),\n",
    " (datetime.date(2021, 10, 5), 3390.310407759615, 284.11599170388837),\n",
    " (datetime.date(2021, 10, 6), 3520.3422566393974, 284.11599170388837),\n",
    " (datetime.date(2021, 10, 7), 3592.1761295000256, 304.4072535830911),\n",
    " (datetime.date(2021, 10, 8), 3594.918357967647, 303.5558500153496),\n",
    " (datetime.date(2021, 10, 9), 3558.549577083409, 300.02737165048256),\n",
    " (datetime.date(2021, 10, 10), 3588.0809215501645, 301.94556118394337),\n",
    " (datetime.date(2021, 10, 11), 3431.0193069150096, 295.0838894046037),\n",
    " (datetime.date(2021, 10, 12), 3537.840087124068, 306.16410056482925),\n",
    " (datetime.date(2021, 10, 13), 3498.1052921206597, 298.1098536843519),\n",
    " (datetime.date(2021, 10, 14), 3605.6503342981764, 298.45018407152213),\n",
    " (datetime.date(2021, 10, 15), 3794.516888224821, 328.0562973203186),\n",
    " (datetime.date(2021, 10, 16), 3885.641764529699, 328.7293810774201),\n",
    " (datetime.date(2021, 10, 17), 3854.498461449342, 340.6330390309891),\n",
    " (datetime.date(2021, 10, 18), 3854.223686940845, 328.2672877085605),\n",
    " (datetime.date(2021, 10, 19), 3752.61872738495, 323.00933416878127),\n",
    " (datetime.date(2021, 10, 20), 3884.5872952429017, 332.5833878568105),\n",
    " (datetime.date(2021, 10, 21), 4170.107932886265, 344.70507750409246),\n",
    " (datetime.date(2021, 10, 22), 4074.8601575202883, 336.38358582221554),\n",
    " (datetime.date(2021, 10, 23), 3990.711976433473, 348.70185398573335),\n",
    " (datetime.date(2021, 10, 24), 4179.44229816945, 342.41010260722504),\n",
    " (datetime.date(2021, 10, 25), 4094.9389934187225, 334.49088450156347),\n",
    " (datetime.date(2021, 10, 26), 4230.208371594039, 344.84717125271686),\n",
    " (datetime.date(2021, 10, 27), 4152.570288731245, 355.6018443652202),\n",
    " (datetime.date(2021, 10, 28), 3944.090861781322, 330.4845710289173),\n",
    " (datetime.date(2021, 10, 29), 4288.09721878663, 356.90825808864156),\n",
    " (datetime.date(2021, 10, 30), 4422.940535593754, 360.8964268433717),\n",
    " (datetime.date(2021, 10, 31), 4324.6099257118785, 363.15775714226953),\n",
    " (datetime.date(2021, 11, 1), 4292.04047236198, 361.730824123258),\n",
    " (datetime.date(2021, 11, 2), 4330.553151595248, 358.38551603529123),\n",
    " (datetime.date(2021, 11, 3), 4596.59309058429, 382.0748065383852),\n",
    " (datetime.date(2021, 11, 4), 4607.699273078144, 380.93324465238356),\n",
    " (datetime.date(2021, 11, 5), 4550.014435142697, 373.84262291792254),\n",
    " (datetime.date(2021, 11, 6), 4494.80276090967, 369.84226281923577),\n",
    " (datetime.date(2021, 11, 7), 4527.104154150622, 369.9890317863869),\n",
    " (datetime.date(2021, 11, 8), 4626.6292884486975, 377.5112545688045),\n",
    " (datetime.date(2021, 11, 9), 4815.004634322234, 391.95865105578764),\n",
    " (datetime.date(2021, 11, 10), 4742.08091060724, 393.37243922082007),\n",
    " (datetime.date(2021, 11, 11), 4641.528764849704, 393.37243922082007),\n",
    " (datetime.date(2021, 11, 12), 4732.9244503493555, 379.60388309767956),\n",
    " (datetime.date(2021, 11, 13), 4685.10635551733, 379.60388309767956),\n",
    " (datetime.date(2021, 11, 14), 4666.498498194288, 379.5897656211685),\n",
    " (datetime.date(2021, 11, 15), 4652.947394238871, 379.10729711000624),\n",
    " (datetime.date(2021, 11, 16), 4583.211418759011, 377.84724157116705),\n",
    " (datetime.date(2021, 11, 17), 4243.352906802173, 377.84724157116705),\n",
    " (datetime.date(2021, 11, 18), 4302.804958962834, 343.7240698660445),\n",
    " (datetime.date(2021, 11, 19), 3993.846595161859, 327.7571550457663),\n",
    " (datetime.date(2021, 11, 20), 4317.603195646166, 345.7660015993489),\n",
    " (datetime.date(2021, 11, 21), 4436.192766930451, 344.2067753466893),\n",
    " (datetime.date(2021, 11, 22), 4319.361566856902, 355.90277881635916),\n",
    " (datetime.date(2021, 11, 23), 4101.062876490145, 333.55476068197686),\n",
    " (datetime.date(2021, 11, 24), 4355.420957796475, 317.70367156485156),\n",
    " (datetime.date(2021, 11, 25), 4269.437219728043, 310.92221396649705),\n",
    " (datetime.date(2021, 11, 26), 4515.843300142739, 327.4417952625963),\n",
    " (datetime.date(2021, 11, 27), 4048.3128440761725, 306.6455361196126),\n",
    " (datetime.date(2021, 11, 28), 4084.0884856959556, 300.13358089005806),\n",
    " (datetime.date(2021, 11, 29), 4290.091862536401, 323.0354582913548),\n",
    " (datetime.date(2021, 11, 30), 4444.528279821561, 332.0678878690766),\n",
    " (datetime.date(2021, 12, 1), 4637.121616831405, 347.53546053730327),\n",
    " (datetime.date(2021, 12, 2), 4589.610617539151, 351.16033738370004),\n",
    " (datetime.date(2021, 12, 3), 4519.441028028784, 339.6314079066015),\n",
    " (datetime.date(2021, 12, 4), 4240.155516808957, 327.1338187592754),\n",
    " (datetime.date(2021, 12, 5), 4101.656791810778, 305.3734753251226),\n",
    " (datetime.date(2021, 12, 6), 4198.572874562462, 307.57881371199824),\n",
    " (datetime.date(2021, 12, 7), 4347.615630598069, 301.73908055555114),\n",
    " (datetime.date(2021, 12, 8), 4310.566646424531, 307.2915326923182),\n",
    " (datetime.date(2021, 12, 9), 4431.540647139759, 316.7793905724204),\n",
    " (datetime.date(2021, 12, 10), 4153.333310724186, 301.7723901704286),\n",
    " (datetime.date(2021, 12, 11), 3918.200743402953, 302.6216225111272),\n",
    " (datetime.date(2021, 12, 12), 4079.814930569866, 302.6216225111272),\n",
    " (datetime.date(2021, 12, 13), 4135.841510137412, 300.46742870523497),\n",
    " (datetime.date(2021, 12, 14), 3782.8952622347147, 274.2582255059765),\n",
    " (datetime.date(2021, 12, 15), 3858.1644681806974, 268.1001341400748),\n",
    " (datetime.date(2021, 12, 17), 3971.5597663421136, 276.25061551198337),\n",
    " (datetime.date(2021, 12, 18), 3886.7473617182886, 276.25061551198337),\n",
    " (datetime.date(2021, 12, 19), 3966.4253516705508, 283.21787729674253),\n",
    " (datetime.date(2021, 12, 20), 3928.8417238716206, 281.2669918798422),\n",
    " (datetime.date(2021, 12, 21), 3950.4823919860964, 281.2669918798422),\n",
    " (datetime.date(2021, 12, 22), 4036.549717813428, 316.69504776079907),\n",
    " (datetime.date(2021, 12, 23), 3992.5945766373156, 316.69504776079907),\n",
    " (datetime.date(2021, 12, 24), 4113.529931874606, 326.11786396688774),\n",
    " (datetime.date(2021, 12, 25), 4055.1173669313243, 319.74299584655284),\n",
    " (datetime.date(2021, 12, 26), 4110.571870853741, 321.88096184563017),\n",
    " (datetime.date(2021, 12, 27), 4075.03161894955, 322.0634410282218),\n",
    " (datetime.date(2021, 12, 28), 4045.051350119327, 319.69759854201027),\n",
    " (datetime.date(2021, 12, 29), 3807.3603674991996, 298.6293145762002),\n",
    " (datetime.date(2021, 12, 30), 3644.405516878227, 298.6293145762002),\n",
    " (datetime.date(2021, 12, 31), 3714.945456115339, 293.4566325353838),\n",
    " (datetime.date(2022, 1, 1), 3686.4025423019352, 298.50769187293804),\n",
    " (datetime.date(2022, 1, 2), 3780.315874327848, 295.77838185635386),\n",
    " (datetime.date(2022, 1, 3), 3835.3959914939574, 301.70926054540666),\n",
    " (datetime.date(2022, 1, 4), 3769.4049401148714, 301.5414331837557),\n",
    " (datetime.date(2022, 1, 5), 3794.908130100449, 300.53166808553783),\n",
    " (datetime.date(2022, 1, 6), 3556.9062274078738, 300.53166808553783),\n",
    " (datetime.date(2022, 1, 7), 3416.8260086159135, 262.54886394393924),\n",
    " (datetime.date(2022, 1, 8), 3201.79457434796, 234.52660459696756),\n",
    " (datetime.date(2022, 1, 9), 3101.0409016141402, 226.58307970077524),\n",
    " (datetime.date(2022, 1, 10), 3156.967262159481, 229.64154810852418),\n",
    " (datetime.date(2022, 1, 11), 3086.7290024387257, 223.823064841299),\n",
    " (datetime.date(2022, 1, 12), 3246.413723028553, 226.46348979730084),\n",
    " (datetime.date(2022, 1, 13), 3378.0358951715943, 247.17869349595603),\n",
    " (datetime.date(2022, 1, 14), 3256.7588661330324, 239.75409792966732),\n",
    " (datetime.date(2022, 1, 15), 3311.986061274383, 239.75409792966732),\n",
    " (datetime.date(2022, 1, 16), 3331.246655159985, 245.5626096037423),\n",
    " (datetime.date(2022, 1, 17), 3356.2954438590405, 245.5626096037423),\n",
    " (datetime.date(2022, 1, 18), 3216.592980619574, 235.2391468176404),\n",
    " (datetime.date(2022, 1, 19), 3166.4539115046164, 229.85467095395475),\n",
    " (datetime.date(2022, 1, 20), 3097.0214660626802, 230.29799834298703),\n",
    " (datetime.date(2022, 1, 21), 3015.588777543836, 221.06592531947518),\n",
    " (datetime.date(2022, 1, 22), 2564.3433423740635, 180.22151423854004),\n",
    " (datetime.date(2022, 1, 23), 2407.377851608285, 174.32037418599072),\n",
    " (datetime.date(2022, 1, 24), 2537.836727861043, 183.02064689406347),\n",
    " (datetime.date(2022, 1, 25), 2447.831512095295, 131.01840562086525),\n",
    " (datetime.date(2022, 1, 26), 2465.21922984942, 182.2093732667787),\n",
    " (datetime.date(2022, 1, 27), 2470.4304120157067, 202.55023907161652),\n",
    " (datetime.date(2022, 1, 28), 2411.863855325421, 211.12243876421238),\n",
    " (datetime.date(2022, 1, 29), 2551.1110735194716, 212.37731035660528),\n",
    " (datetime.date(2022, 1, 30), 2603.603872339056, 227.10368537745475),\n",
    " (datetime.date(2022, 1, 31), 2610.1824055910874, 223.8183027928497),\n",
    " (datetime.date(2022, 2, 1), 2689.2208672204492, 223.8183027928497),\n",
    " (datetime.date(2022, 2, 2), 2797.434855273681, 244.4027285606248),\n",
    " (datetime.date(2022, 2, 3), 2690.319739476765, 235.38746417458694),\n",
    " (datetime.date(2022, 2, 4), 2667.256728215686, 232.77553480119929),\n",
    " (datetime.date(2022, 2, 5), 2993.0994395135976, 260.8446004281858),\n",
    " (datetime.date(2022, 2, 6), 3018.6733981571506, 264.2687011444589),\n",
    " (datetime.date(2022, 2, 7), 3062.8058084507857, 265.9641319159457),\n",
    " (datetime.date(2022, 2, 8), 3149.953285509783, 276.19128034679824),\n",
    " (datetime.date(2022, 2, 9), 3127.438106740214, 268.0488043273583),\n",
    " (datetime.date(2022, 2, 10), 3240.9210444877285, 270.91534966892516),\n",
    " (datetime.date(2022, 2, 13), 2918.0853674291184, 256.701416420036),\n",
    " (datetime.date(2022, 2, 14), 2889.235678281073, 256.701416420036),\n",
    " (datetime.date(2022, 2, 15), 2935.6454998606846, 256.54385338850346),\n",
    " (datetime.date(2022, 2, 16), 3179.3002065350443, 268.91216565799624),\n",
    " (datetime.date(2022, 2, 17), 3128.640780542462, 268.91216565799624),\n",
    " (datetime.date(2022, 2, 20), 2768.9716520348597, 230.19319587429487),\n",
    " (datetime.date(2022, 2, 21), 2632.49139911745, 230.19319587429487),\n",
    " (datetime.date(2022, 2, 22), 2574.513383778016, 230.19319587429487),\n",
    " (datetime.date(2022, 2, 23), 2644.153655546016, 220.41508324627029),\n",
    " (datetime.date(2022, 2, 24), 2594.700959110155, 226.89262999955113),\n",
    " (datetime.date(2022, 2, 25), 2599.9335696870216, 227.00174205336083),\n",
    " (datetime.date(2022, 2, 26), 2771.890509646429, 227.68046382886857),\n",
    " (datetime.date(2022, 2, 28), 2629.48312082149, 256.63150634962494),\n",
    " (datetime.date(2022, 3, 1), 2919.294962425658, 256.63150634962494),\n",
    " (datetime.date(2022, 3, 2), 2977.276039756805, 260.70937897399983),\n",
    " (datetime.date(2022, 3, 3), 2953.315776286441, 260.71813823974395),\n",
    " (datetime.date(2022, 3, 4), 2836.9063366005576, 248.76462680792258),\n",
    " (datetime.date(2022, 3, 5), 2619.356137634489, 229.84646623006336),\n",
    " (datetime.date(2022, 3, 6), 2668.70597865687, 234.67959994197346),\n",
    " (datetime.date(2022, 3, 7), 2558.359874049847, 234.67959994197346),\n",
    " (datetime.date(2022, 3, 8), 2498.658864965217, 217.52734471947528),\n",
    " (datetime.date(2022, 3, 9), 2576.6271539947625, 226.00604687307364),\n",
    " (datetime.date(2022, 3, 10), 2731.037685293996, 203.8470828806972),\n",
    " (datetime.date(2022, 3, 11), 2611.4647225047097, 203.8470828806972),\n",
    " (datetime.date(2022, 3, 12), 2562.8323535359655, 193.8669156789442),\n",
    " (datetime.date(2022, 3, 13), 2579.4581356883637, 193.8669156789442),\n",
    " (datetime.date(2022, 3, 14), 2518.492845270615, 192.25150273547385),\n",
    " (datetime.date(2022, 3, 15), 2586.670143978979, 196.73455359282428)]"
   ]
  },
  {
   "cell_type": "code",
   "execution_count": 81,
   "id": "569aa7d0",
   "metadata": {},
   "outputs": [],
   "source": [
    "import numpy as np\n",
    "import pandas as pd"
   ]
  },
  {
   "cell_type": "code",
   "execution_count": 10,
   "id": "f0735673",
   "metadata": {},
   "outputs": [],
   "source": [
    "eth_tcap_df = pd.DataFrame(eth_tcap)"
   ]
  },
  {
   "cell_type": "code",
   "execution_count": 13,
   "id": "d865238a",
   "metadata": {},
   "outputs": [
    {
     "name": "stdout",
     "output_type": "stream",
     "text": [
      "<class 'pandas.core.frame.DataFrame'>\n",
      "RangeIndex: 336 entries, 0 to 335\n",
      "Data columns (total 3 columns):\n",
      " #   Column  Non-Null Count  Dtype  \n",
      "---  ------  --------------  -----  \n",
      " 0   0       336 non-null    object \n",
      " 1   1       336 non-null    float64\n",
      " 2   2       336 non-null    float64\n",
      "dtypes: float64(2), object(1)\n",
      "memory usage: 8.0+ KB\n"
     ]
    }
   ],
   "source": [
    "eth_tcap_df.info()"
   ]
  },
  {
   "cell_type": "code",
   "execution_count": 15,
   "id": "b8b4adba",
   "metadata": {},
   "outputs": [
    {
     "data": {
      "text/html": [
       "<div>\n",
       "<style scoped>\n",
       "    .dataframe tbody tr th:only-of-type {\n",
       "        vertical-align: middle;\n",
       "    }\n",
       "\n",
       "    .dataframe tbody tr th {\n",
       "        vertical-align: top;\n",
       "    }\n",
       "\n",
       "    .dataframe thead th {\n",
       "        text-align: right;\n",
       "    }\n",
       "</style>\n",
       "<table border=\"1\" class=\"dataframe\">\n",
       "  <thead>\n",
       "    <tr style=\"text-align: right;\">\n",
       "      <th></th>\n",
       "      <th>1</th>\n",
       "      <th>2</th>\n",
       "    </tr>\n",
       "  </thead>\n",
       "  <tbody>\n",
       "    <tr>\n",
       "      <th>count</th>\n",
       "      <td>336.000000</td>\n",
       "      <td>336.000000</td>\n",
       "    </tr>\n",
       "    <tr>\n",
       "      <th>mean</th>\n",
       "      <td>3150.960871</td>\n",
       "      <td>254.992585</td>\n",
       "    </tr>\n",
       "    <tr>\n",
       "      <th>std</th>\n",
       "      <td>770.442814</td>\n",
       "      <td>58.293426</td>\n",
       "    </tr>\n",
       "    <tr>\n",
       "      <th>min</th>\n",
       "      <td>1794.973425</td>\n",
       "      <td>131.018406</td>\n",
       "    </tr>\n",
       "    <tr>\n",
       "      <th>25%</th>\n",
       "      <td>2531.295677</td>\n",
       "      <td>210.147651</td>\n",
       "    </tr>\n",
       "    <tr>\n",
       "      <th>50%</th>\n",
       "      <td>3125.204952</td>\n",
       "      <td>248.159452</td>\n",
       "    </tr>\n",
       "    <tr>\n",
       "      <th>75%</th>\n",
       "      <td>3794.614699</td>\n",
       "      <td>298.629315</td>\n",
       "    </tr>\n",
       "    <tr>\n",
       "      <th>max</th>\n",
       "      <td>4815.004634</td>\n",
       "      <td>393.372439</td>\n",
       "    </tr>\n",
       "  </tbody>\n",
       "</table>\n",
       "</div>"
      ],
      "text/plain": [
       "                 1           2\n",
       "count   336.000000  336.000000\n",
       "mean   3150.960871  254.992585\n",
       "std     770.442814   58.293426\n",
       "min    1794.973425  131.018406\n",
       "25%    2531.295677  210.147651\n",
       "50%    3125.204952  248.159452\n",
       "75%    3794.614699  298.629315\n",
       "max    4815.004634  393.372439"
      ]
     },
     "execution_count": 15,
     "metadata": {},
     "output_type": "execute_result"
    }
   ],
   "source": [
    "eth_tcap_df.describe()"
   ]
  },
  {
   "cell_type": "code",
   "execution_count": 17,
   "id": "458dc7b4",
   "metadata": {},
   "outputs": [
    {
     "data": {
      "text/plain": [
       "0      1989.148062\n",
       "1      2081.354063\n",
       "2      2069.667796\n",
       "3      2142.796065\n",
       "4      2150.265143\n",
       "          ...     \n",
       "331    2611.464723\n",
       "332    2562.832354\n",
       "333    2579.458136\n",
       "334    2518.492845\n",
       "335    2586.670144\n",
       "Name: 1, Length: 336, dtype: float64"
      ]
     },
     "execution_count": 17,
     "metadata": {},
     "output_type": "execute_result"
    }
   ],
   "source": [
    "sns.pairplot([1]"
   ]
  },
  {
   "cell_type": "code",
   "execution_count": 62,
   "id": "182bbcd1",
   "metadata": {},
   "outputs": [],
   "source": [
    "import matplotlib.pyplot as plt \n",
    "import seaborn as sns"
   ]
  },
  {
   "cell_type": "code",
   "execution_count": 19,
   "id": "87520182",
   "metadata": {},
   "outputs": [],
   "source": [
    "import seaborn as sns"
   ]
  },
  {
   "cell_type": "code",
   "execution_count": 38,
   "id": "1e07e38f",
   "metadata": {},
   "outputs": [
    {
     "data": {
      "image/png": "[encoded data removed]",
      "text/plain": [
       "<Figure size 288x288 with 1 Axes>"
      ]
     },
     "metadata": {
      "needs_background": "light"
     },
     "output_type": "display_data"
    }
   ],
   "source": [
    "sns.pairplot(eth_tcap_df, x_vars=1, y_vars=2, height=4, aspect=1, kind='scatter')\n",
    "plt.show()"
   ]
  },
  {
   "cell_type": "code",
   "execution_count": 36,
   "id": "f7b4cebe",
   "metadata": {},
   "outputs": [
    {
     "data": {
      "text/html": [
       "<div>\n",
       "<style scoped>\n",
       "    .dataframe tbody tr th:only-of-type {\n",
       "        vertical-align: middle;\n",
       "    }\n",
       "\n",
       "    .dataframe tbody tr th {\n",
       "        vertical-align: top;\n",
       "    }\n",
       "\n",
       "    .dataframe thead th {\n",
       "        text-align: right;\n",
       "    }\n",
       "</style>\n",
       "<table border=\"1\" class=\"dataframe\">\n",
       "  <thead>\n",
       "    <tr style=\"text-align: right;\">\n",
       "      <th></th>\n",
       "      <th>1</th>\n",
       "      <th>2</th>\n",
       "    </tr>\n",
       "  </thead>\n",
       "  <tbody>\n",
       "    <tr>\n",
       "      <th>1</th>\n",
       "      <td>1.000000</td>\n",
       "      <td>0.946662</td>\n",
       "    </tr>\n",
       "    <tr>\n",
       "      <th>2</th>\n",
       "      <td>0.946662</td>\n",
       "      <td>1.000000</td>\n",
       "    </tr>\n",
       "  </tbody>\n",
       "</table>\n",
       "</div>"
      ],
      "text/plain": [
       "          1         2\n",
       "1  1.000000  0.946662\n",
       "2  0.946662  1.000000"
      ]
     },
     "execution_count": 36,
     "metadata": {},
     "output_type": "execute_result"
    }
   ],
   "source": [
    "eth_tcap_df.drop([0], axis=1).corr()"
   ]
  },
  {
   "cell_type": "code",
   "execution_count": 55,
   "id": "4fc3a7c0",
   "metadata": {},
   "outputs": [
    {
     "data": {
      "text/plain": [
       "249    300.467429\n",
       "134    224.074973\n",
       "40     274.757870\n",
       "217    393.372439\n",
       "32     286.453171\n",
       "          ...    \n",
       "53     213.635897\n",
       "79     168.263420\n",
       "323    260.718138\n",
       "280    239.754098\n",
       "8      219.090614\n",
       "Name: 2, Length: 235, dtype: float64"
      ]
     },
     "execution_count": 55,
     "metadata": {},
     "output_type": "execute_result"
    }
   ],
   "source": [
    "from sklearn.model_selection import train_test_split\n",
    "x_train, x_test, y_train, y_test = train_test_split(eth_tcap_df[1], eth_tcap_df[2], train_size = 0.7, test_size = 0.3, random_state = 100)"
   ]
  },
  {
   "cell_type": "code",
   "execution_count": 57,
   "id": "1f14b272",
   "metadata": {},
   "outputs": [
    {
     "data": {
      "text/plain": [
       "const    31.256463\n",
       "1         0.070542\n",
       "dtype: float64"
      ]
     },
     "execution_count": 57,
     "metadata": {},
     "output_type": "execute_result"
    }
   ],
   "source": [
    "import statsmodels.api as sm\n",
    "x_train_sm = sm.add_constant(x_train)\n",
    "lr = sm.OLS(y_train, x_train_sm).fit()\n",
    "lr.params"
   ]
  },
  {
   "cell_type": "code",
   "execution_count": 58,
   "id": "f952a7fe",
   "metadata": {},
   "outputs": [
    {
     "data": {
      "text/html": [
       "<table class=\"simpletable\">\n",
       "<caption>OLS Regression Results</caption>\n",
       "<tr>\n",
       "  <th>Dep. Variable:</th>            <td>2</td>        <th>  R-squared:         </th> <td>   0.896</td> \n",
       "</tr>\n",
       "<tr>\n",
       "  <th>Model:</th>                   <td>OLS</td>       <th>  Adj. R-squared:    </th> <td>   0.895</td> \n",
       "</tr>\n",
       "<tr>\n",
       "  <th>Method:</th>             <td>Least Squares</td>  <th>  F-statistic:       </th> <td>   1999.</td> \n",
       "</tr>\n",
       "<tr>\n",
       "  <th>Date:</th>             <td>Wed, 16 Mar 2022</td> <th>  Prob (F-statistic):</th> <td>2.62e-116</td>\n",
       "</tr>\n",
       "<tr>\n",
       "  <th>Time:</th>                 <td>02:05:21</td>     <th>  Log-Likelihood:    </th> <td> -1014.8</td> \n",
       "</tr>\n",
       "<tr>\n",
       "  <th>No. Observations:</th>      <td>   235</td>      <th>  AIC:               </th> <td>   2034.</td> \n",
       "</tr>\n",
       "<tr>\n",
       "  <th>Df Residuals:</th>          <td>   233</td>      <th>  BIC:               </th> <td>   2041.</td> \n",
       "</tr>\n",
       "<tr>\n",
       "  <th>Df Model:</th>              <td>     1</td>      <th>                     </th>     <td> </td>    \n",
       "</tr>\n",
       "<tr>\n",
       "  <th>Covariance Type:</th>      <td>nonrobust</td>    <th>                     </th>     <td> </td>    \n",
       "</tr>\n",
       "</table>\n",
       "<table class=\"simpletable\">\n",
       "<tr>\n",
       "    <td></td>       <th>coef</th>     <th>std err</th>      <th>t</th>      <th>P>|t|</th>  <th>[0.025</th>    <th>0.975]</th>  \n",
       "</tr>\n",
       "<tr>\n",
       "  <th>const</th> <td>   31.2565</td> <td>    5.082</td> <td>    6.150</td> <td> 0.000</td> <td>   21.244</td> <td>   41.269</td>\n",
       "</tr>\n",
       "<tr>\n",
       "  <th>1</th>     <td>    0.0705</td> <td>    0.002</td> <td>   44.709</td> <td> 0.000</td> <td>    0.067</td> <td>    0.074</td>\n",
       "</tr>\n",
       "</table>\n",
       "<table class=\"simpletable\">\n",
       "<tr>\n",
       "  <th>Omnibus:</th>       <td> 6.967</td> <th>  Durbin-Watson:     </th> <td>   2.136</td>\n",
       "</tr>\n",
       "<tr>\n",
       "  <th>Prob(Omnibus):</th> <td> 0.031</td> <th>  Jarque-Bera (JB):  </th> <td>   3.762</td>\n",
       "</tr>\n",
       "<tr>\n",
       "  <th>Skew:</th>          <td> 0.030</td> <th>  Prob(JB):          </th> <td>   0.152</td>\n",
       "</tr>\n",
       "<tr>\n",
       "  <th>Kurtosis:</th>      <td> 2.383</td> <th>  Cond. No.          </th> <td>1.38e+04</td>\n",
       "</tr>\n",
       "</table><br/><br/>Notes:<br/>[1] Standard Errors assume that the covariance matrix of the errors is correctly specified.<br/>[2] The condition number is large, 1.38e+04. This might indicate that there are<br/>strong multicollinearity or other numerical problems."
      ],
      "text/plain": [
       "<class 'statsmodels.iolib.summary.Summary'>\n",
       "\"\"\"\n",
       "                            OLS Regression Results                            \n",
       "==============================================================================\n",
       "Dep. Variable:                      2   R-squared:                       0.896\n",
       "Model:                            OLS   Adj. R-squared:                  0.895\n",
       "Method:                 Least Squares   F-statistic:                     1999.\n",
       "Date:                Wed, 16 Mar 2022   Prob (F-statistic):          2.62e-116\n",
       "Time:                        02:05:21   Log-Likelihood:                -1014.8\n",
       "No. Observations:                 235   AIC:                             2034.\n",
       "Df Residuals:                     233   BIC:                             2041.\n",
       "Df Model:                           1                                         \n",
       "Covariance Type:            nonrobust                                         \n",
       "==============================================================================\n",
       "                 coef    std err          t      P>|t|      [0.025      0.975]\n",
       "------------------------------------------------------------------------------\n",
       "const         31.2565      5.082      6.150      0.000      21.244      41.269\n",
       "1              0.0705      0.002     44.709      0.000       0.067       0.074\n",
       "==============================================================================\n",
       "Omnibus:                        6.967   Durbin-Watson:                   2.136\n",
       "Prob(Omnibus):                  0.031   Jarque-Bera (JB):                3.762\n",
       "Skew:                           0.030   Prob(JB):                        0.152\n",
       "Kurtosis:                       2.383   Cond. No.                     1.38e+04\n",
       "==============================================================================\n",
       "\n",
       "Notes:\n",
       "[1] Standard Errors assume that the covariance matrix of the errors is correctly specified.\n",
       "[2] The condition number is large, 1.38e+04. This might indicate that there are\n",
       "strong multicollinearity or other numerical problems.\n",
       "\"\"\""
      ]
     },
     "execution_count": 58,
     "metadata": {},
     "output_type": "execute_result"
    }
   ],
   "source": [
    "lr.summary()"
   ]
  },
  {
   "cell_type": "code",
   "execution_count": 64,
   "id": "867721fe",
   "metadata": {},
   "outputs": [
    {
     "data": {
      "image/png": "[encoded data removed]",
      "text/plain": [
       "<Figure size 432x288 with 1 Axes>"
      ]
     },
     "metadata": {
      "needs_background": "light"
     },
     "output_type": "display_data"
    }
   ],
   "source": [
    "plt.scatter(eth_tcap_df[1], eth_tcap_df[2])\n",
    "plt.plot(x_train, 0.070542 * x_train + 31.256463, 'r')\n",
    "plt.show()"
   ]
  },
  {
   "cell_type": "code",
   "execution_count": 66,
   "id": "d2283252",
   "metadata": {},
   "outputs": [
    {
     "data": {
      "text/plain": [
       "249   -22.539206\n",
       "134   -29.022998\n",
       "40     11.543381\n",
       "217    34.693658\n",
       "32    -22.227287\n",
       "         ...    \n",
       "53     13.371364\n",
       "79      7.670958\n",
       "323    21.129131\n",
       "280   -21.240366\n",
       "8      10.479901\n",
       "Length: 235, dtype: float64"
      ]
     },
     "execution_count": 66,
     "metadata": {},
     "output_type": "execute_result"
    }
   ],
   "source": [
    "y_train_pred = lr.predict(x_train_sm)\n",
    "res = (y_train - y_train_pred)\n",
    "res"
   ]
  },
  {
   "cell_type": "code",
   "execution_count": 69,
   "id": "4610e866",
   "metadata": {},
   "outputs": [
    {
     "name": "stderr",
     "output_type": "stream",
     "text": [
      "/Users/voith/Python-Envs/tcap-analysis/lib/python3.7/site-packages/seaborn/distributions.py:2619: FutureWarning: `distplot` is a deprecated function and will be removed in a future version. Please adapt your code to use either `displot` (a figure-level function with similar flexibility) or `histplot` (an axes-level function for histograms).\n",
      "  warnings.warn(msg, FutureWarning)\n"
     ]
    },
    {
     "data": {
      "image/png": "[encoded data removed]",
      "text/plain": [
       "<Figure size 432x288 with 1 Axes>"
      ]
     },
     "metadata": {
      "needs_background": "light"
     },
     "output_type": "display_data"
    }
   ],
   "source": [
    "fig = plt.figure()\n",
    "sns.distplot(res, bins = 15)\n",
    "plt.title('Error Terms', fontsize = 15)\n",
    "plt.xlabel('y_train - y_train_pred', fontsize = 15)\n",
    "plt.show()"
   ]
  },
  {
   "cell_type": "code",
   "execution_count": 141,
   "id": "2ebcd1d7",
   "metadata": {},
   "outputs": [
    {
     "name": "stderr",
     "output_type": "stream",
     "text": [
      "/Users/voith/Python-Envs/tcap-analysis/lib/python3.7/site-packages/ipykernel_launcher.py:4: RuntimeWarning: divide by zero encountered in true_divide\n",
      "  after removing the cwd from sys.path.\n"
     ]
    },
    {
     "data": {
      "image/png": "[encoded data removed]",
      "text/plain": [
       "<Figure size 432x288 with 1 Axes>"
      ]
     },
     "metadata": {
      "needs_background": "light"
     },
     "output_type": "display_data"
    }
   ],
   "source": [
    "LP = np.arange(0.0, 60, 0.5)\n",
    "VR = 150\n",
    "fig, ax = plt.subplots()\n",
    "ax.plot(LP, 1/(VR - LP - 100), 'r')\n",
    "ax.grid()\n",
    "plt.show()"
   ]
  },
  {
   "cell_type": "code",
   "execution_count": 83,
   "id": "b12f464e",
   "metadata": {},
   "outputs": [
    {
     "name": "stderr",
     "output_type": "stream",
     "text": [
      "/Users/voith/Python-Envs/tcap-analysis/lib/python3.7/site-packages/ipykernel_launcher.py:4: RuntimeWarning: divide by zero encountered in true_divide\n",
      "  after removing the cwd from sys.path.\n"
     ]
    },
    {
     "data": {
      "image/png": "[encoded data removed]",
      "text/plain": [
       "<Figure size 432x288 with 1 Axes>"
      ]
     },
     "metadata": {
      "needs_background": "light"
     },
     "output_type": "display_data"
    }
   ],
   "source": [
    "LP = np.arange(-10, 20, 0.5)\n",
    "VR = 110\n",
    "fig, ax = plt.subplots()\n",
    "ax.plot(LP, 1/(VR - LP - 100), 'r')\n",
    "ax.grid()\n",
    "plt.show()"
   ]
  },
  {
   "cell_type": "code",
   "execution_count": 29,
   "id": "a185043e",
   "metadata": {},
   "outputs": [],
   "source": [
    "import os\n",
    "import requests\n",
    "from datetime import datetime, timedelta\n",
    "from dateutil import tz\n",
    "from sqlalchemy import create_engine, MetaData, Table, Column\n",
    "from sqlalchemy.types import Float, DateTime\n",
    "from sqlalchemy.orm import Session\n",
    "from sqlalchemy.ext.declarative import declarative_base\n",
    "\n",
    "Base = declarative_base()\n",
    "engine = create_engine(f'sqlite:////{os.getcwd()}/eth_tcap.db')\n",
    "metadata_obj = MetaData()\n",
    "\n",
    "class EthTcap(Base):\n",
    "   __tablename__ = 'EthTcap'\n",
    "   \n",
    "   datetime = Column(DateTime, primary_key=True)\n",
    "   eth_price = Column(Float)\n",
    "   tcap_price = Column(Float)\n",
    "\n",
    "metadata_obj.create_all(engine)\n",
    "\n",
    "TCAP_COINGECKO_ID = 14703\n",
    "ETH_COINGECKO_ID = 279\n",
    "first_day_start = datetime(2021, 4, 10, 0, 0, 0, tzinfo=tz.UTC)\n",
    "first_day_end = datetime(2021, 4, 10, 23, 59, 59, tzinfo=tz.UTC)\n",
    "today = datetime.now(tz=tz.UTC)\n",
    "\n",
    "def fetch_asset_price(asset_id, epoch_start, epoch_end):\n",
    "    return requests.get(\n",
    "        f\"https://www.coingecko.com/price_charts/{asset_id}/usd/custom.json?from={epoch_start}&to={epoch_end}\"\n",
    "    ).json()\n",
    "\n",
    "no_days_to_analyse = (today - first_day_start).days\n",
    "\n",
    "for day in range(no_days_to_analyse):\n",
    "    day_start = int((first_day_start + timedelta(days=day)).timestamp())\n",
    "    day_end = int((first_day_end + timedelta(days=day)).timestamp())\n",
    "    data_tcap = fetch_asset_price(\n",
    "        TCAP_COINGECKO_ID,\n",
    "        day_start,\n",
    "        day_end,\n",
    "    )\n",
    "\n",
    "    data_eth = fetch_asset_price(\n",
    "        ETH_COINGECKO_ID,\n",
    "        day_start,\n",
    "        day_end,\n",
    "    )\n",
    "    eth_dict = dict(map(lambda x: (str(datetime.utcfromtimestamp(x[0]/1000))[:13]+\":00:00\", x[1]), data_eth['stats']))\n",
    "    tcap_dict = dict(map(lambda x: (str(datetime.utcfromtimestamp(x[0]/1000))[:13]+\":00:00\", x[1]), data_tcap['stats']))\n",
    "    common_keys = set(eth_dict.keys()).intersection(tcap_dict.keys())\n",
    "    for key in common_keys:\n",
    "        with Session(engine) as session:\n",
    "            eth_tcap = EthTcap(\n",
    "                datetime=datetime.strptime(key, \"%Y-%m-%d %H:%M:%S\"),\n",
    "                eth_price=eth_dict[key],\n",
    "                tcap_price=tcap_dict[key]\n",
    "            )\n",
    "            session.add(eth_tcap)\n",
    "            session.commit()\n"
   ]
  },
  {
   "cell_type": "code",
   "execution_count": 79,
   "id": "4dacfe06",
   "metadata": {},
   "outputs": [
    {
     "data": {
      "image/png": "[encoded data removed]",
      "text/plain": [
       "<Figure size 432x288 with 1 Axes>"
      ]
     },
     "metadata": {
      "needs_background": "light"
     },
     "output_type": "display_data"
    }
   ],
   "source": [
    "from datetime import date\n",
    "from sqlalchemy import Date, cast, extract\n",
    "\n",
    "vault_ratios = []\n",
    "\n",
    "with Session(engine) as session:\n",
    "    for day in range(no_days_to_analyse): \n",
    "        _date = first_day_start + timedelta(days=day)\n",
    "        price_data = session.query(EthTcap).filter(\n",
    "            extract(\"year\", EthTcap.datetime) == _date.year,\n",
    "            extract(\"month\", EthTcap.datetime) == _date.month,\n",
    "            extract(\"day\", EthTcap.datetime) == _date.day,\n",
    "        ).all()\n",
    "        if not price_data:\n",
    "            continue\n",
    "        price_eth = [data.eth_price for data in price_data]\n",
    "        price_tcap = [data.tcap_price for data in price_data]\n",
    "        min_price_eth = min(price_eth)\n",
    "        min_eth_idx = price_eth.index(min_price_eth)\n",
    "        max_price_eth = max(price_eth)\n",
    "        max_eth_idx = price_eth.index(max_price_eth)\n",
    "        vault_ratio = 110\n",
    "        eth_amount = 1\n",
    "        tcap_minted = (100 * max_price_eth * eth_amount) / (vault_ratio * price_tcap[max_eth_idx])\n",
    "        vault_ratio_at_eth_min = (100 * min_price_eth * eth_amount) / (tcap_minted * price_tcap[min_eth_idx])\n",
    "        vault_ratios.append(vault_ratio_at_eth_min - vault_ratio)\n",
    "\n",
    "plt.hist(vault_ratios, bins=[-30, -20, -10, -5, 0, 5, 10, 20, 30, 40])\n",
    "plt.show()"
   ]
  },
  {
   "cell_type": "code",
   "execution_count": 78,
   "id": "d4d64869",
   "metadata": {},
   "outputs": [
    {
     "data": {
      "image/png": "[encoded data removed]",
      "text/plain": [
       "<Figure size 432x288 with 1 Axes>"
      ]
     },
     "metadata": {
      "needs_background": "light"
     },
     "output_type": "display_data"
    }
   ],
   "source": [
    "vault_ratio_2 = []\n",
    "\n",
    "with Session(engine) as session:\n",
    "    for day in range(no_days_to_analyse): \n",
    "        _date = first_day_start + timedelta(days=day)\n",
    "        price_data = session.query(EthTcap).filter(\n",
    "            extract(\"year\", EthTcap.datetime) == _date.year,\n",
    "            extract(\"month\", EthTcap.datetime) == _date.month,\n",
    "            extract(\"day\", EthTcap.datetime) == _date.day,\n",
    "        ).all()\n",
    "        if not price_data:\n",
    "            continue\n",
    "        price_eth = [data.eth_price for data in price_data]\n",
    "        price_tcap = [data.tcap_price for data in price_data]\n",
    "        eth_to_tcap_ratio = [data.eth_price/data.tcap_price for data in price_data]\n",
    "        max_ratio = max(eth_to_tcap_ratio)\n",
    "        min_ratio = min(eth_to_tcap_ratio)\n",
    "        min_price_eth = price_eth[eth_to_tcap_ratio.index(min_ratio)]\n",
    "        max_price_eth = price_eth[eth_to_tcap_ratio.index(max_ratio)]\n",
    "        if eth_to_tcap_ratio.index(max_ratio) < eth_to_tcap_ratio.index(min_ratio):\n",
    "            continue\n",
    "        vault_ratio = 110\n",
    "        eth_amount = 1\n",
    "        tcap_minted = (100 * max_price_eth * eth_amount) / (vault_ratio * price_tcap[eth_to_tcap_ratio.index(min_ratio)])\n",
    "        vault_ratio_at_eth_min = (100 * min_price_eth * eth_amount) / (tcap_minted * price_tcap[eth_to_tcap_ratio.index(max_ratio)])\n",
    "        vault_ratio_2.append(vault_ratio_at_eth_min - vault_ratio)\n",
    "plt.hist(vault_ratios, bins=[-30, -20, -10, -5,  0, 5, 10, 20, 30, 40])\n",
    "plt.show()"
   ]
  }
 ],
 "metadata": {
  "kernelspec": {
   "display_name": "Python 3 (ipykernel)",
   "language": "python",
   "name": "python3"
  },
  "language_info": {
   "codemirror_mode": {
    "name": "ipython",
    "version": 3
   },
   "file_extension": ".py",
   "mimetype": "text/x-python",
   "name": "python",
   "nbconvert_exporter": "python",
   "pygments_lexer": "ipython3",
   "version": "3.7.2"
  }
 },
 "nbformat": 4,
 "nbformat_minor": 5
}
